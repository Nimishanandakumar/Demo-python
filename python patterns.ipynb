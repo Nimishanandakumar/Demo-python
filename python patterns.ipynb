{
 "cells": [
  {
   "cell_type": "code",
   "execution_count": null,
   "id": "9be5c6e3",
   "metadata": {},
   "outputs": [],
   "source": [
    "1\n",
    "12\n",
    "123\n",
    "1234\n",
    "12345"
   ]
  },
  {
   "cell_type": "code",
   "execution_count": 1,
   "id": "dfd89826",
   "metadata": {},
   "outputs": [
    {
     "name": "stdout",
     "output_type": "stream",
     "text": [
      "1\n",
      "12\n",
      "123\n",
      "1234\n",
      "12345\n"
     ]
    }
   ],
   "source": [
    "for i in range(1,6):\n",
    "    for j in range(1,i+1):\n",
    "        print(j,end='')\n",
    "    print()"
   ]
  },
  {
   "cell_type": "code",
   "execution_count": null,
   "id": "b87f8a2e",
   "metadata": {},
   "outputs": [],
   "source": [
    "1        1\n",
    "21      12       \n",
    "321    123\n",
    "4321  1234\n",
    "5432112345"
   ]
  },
  {
   "cell_type": "code",
   "execution_count": 109,
   "id": "3c9c943a",
   "metadata": {},
   "outputs": [
    {
     "name": "stdout",
     "output_type": "stream",
     "text": [
      "1        1\n",
      "21      12\n",
      "321    123\n",
      "4321  1234\n",
      "5432112345\n"
     ]
    }
   ],
   "source": [
    "n=5\n",
    "for i in range(1,n+1):\n",
    "    for j in range(i,0,-1):\n",
    "        print(j,end='')\n",
    "        \n",
    "    print(\" \" *(2*(n-i)),end='')\n",
    "        \n",
    "    for q in range(1,i+1):\n",
    "        print(q,end='')\n",
    "        \n",
    "    print()"
   ]
  },
  {
   "cell_type": "code",
   "execution_count": 25,
   "id": "16c17ce8",
   "metadata": {},
   "outputs": [
    {
     "name": "stdout",
     "output_type": "stream",
     "text": [
      "1\n",
      "21\n",
      "321\n",
      "4321\n",
      "54321\n"
     ]
    }
   ],
   "source": [
    "for i in range(0,5):\n",
    "    for j in range(i+1,0,-1):\n",
    "        print(j,end='')\n",
    "    print()"
   ]
  },
  {
   "cell_type": "code",
   "execution_count": 41,
   "id": "816e057d",
   "metadata": {},
   "outputs": [
    {
     "name": "stdout",
     "output_type": "stream",
     "text": [
      "1\n",
      "12\n",
      "123\n",
      "1234\n",
      "12345\n"
     ]
    }
   ],
   "source": [
    "n=6\n",
    "for i in range(1,n):\n",
    "    for j in range(1,i+1):\n",
    "        print(j,end='')     \n",
    "        \n",
    "    print()"
   ]
  },
  {
   "cell_type": "code",
   "execution_count": null,
   "id": "073855a9",
   "metadata": {},
   "outputs": [],
   "source": [
    "*\n",
    "**\n",
    "***\n",
    "****\n",
    "*****"
   ]
  },
  {
   "cell_type": "code",
   "execution_count": 42,
   "id": "57263b3c",
   "metadata": {},
   "outputs": [
    {
     "name": "stdout",
     "output_type": "stream",
     "text": [
      "*\n",
      "**\n",
      "***\n",
      "****\n",
      "*****\n"
     ]
    }
   ],
   "source": [
    "n=6\n",
    "for i in range(1,n):\n",
    "    print(\"*\" * i)"
   ]
  },
  {
   "cell_type": "code",
   "execution_count": null,
   "id": "7c711a38",
   "metadata": {},
   "outputs": [],
   "source": [
    "    *\n",
    "   **\n",
    "  ***\n",
    " ****\n",
    "*****"
   ]
  },
  {
   "cell_type": "code",
   "execution_count": 44,
   "id": "34777e05",
   "metadata": {},
   "outputs": [
    {
     "name": "stdout",
     "output_type": "stream",
     "text": [
      "    *\n",
      "   **\n",
      "  ***\n",
      " ****\n",
      "*****\n"
     ]
    }
   ],
   "source": [
    "n=6\n",
    "for i in range(1,n):\n",
    "    print(\" \" * (n-i-1),end='')\n",
    "    print(\"*\" * i)"
   ]
  },
  {
   "cell_type": "code",
   "execution_count": null,
   "id": "f62b9c00",
   "metadata": {},
   "outputs": [],
   "source": [
    "    *\n",
    "   ***\n",
    "  *****\n",
    " *******\n",
    "*********"
   ]
  },
  {
   "cell_type": "code",
   "execution_count": 58,
   "id": "69b4fbad",
   "metadata": {},
   "outputs": [
    {
     "name": "stdout",
     "output_type": "stream",
     "text": [
      "    *\n",
      "   ***\n",
      "  *****\n",
      " *******\n",
      "*********\n"
     ]
    }
   ],
   "source": [
    "n=6\n",
    "for i in range(1,n):\n",
    "    print(\" \" * (n-i-1),end='')\n",
    "    print(\"*\" *(2*i-1))"
   ]
  },
  {
   "cell_type": "code",
   "execution_count": null,
   "id": "09c428d9",
   "metadata": {},
   "outputs": [],
   "source": [
    "*********\n",
    " *******\n",
    "  *****\n",
    "   ***\n",
    "    *"
   ]
  },
  {
   "cell_type": "code",
   "execution_count": 60,
   "id": "3eba4957",
   "metadata": {},
   "outputs": [
    {
     "name": "stdout",
     "output_type": "stream",
     "text": [
      "***********\n",
      "*********\n",
      " *******\n",
      "  *****\n",
      "   ***\n",
      "    *\n"
     ]
    }
   ],
   "source": [
    "n=6\n",
    "for i in range(n,0,-1):\n",
    "    print(\" \" * (n-i-1),end='')\n",
    "    print(\"*\" *(2*i-1))"
   ]
  },
  {
   "cell_type": "code",
   "execution_count": null,
   "id": "4e2f3aa6",
   "metadata": {},
   "outputs": [],
   "source": [
    "    1\n",
    "   121\n",
    "  12321\n",
    " 1234321\n",
    "123454321"
   ]
  },
  {
   "cell_type": "code",
   "execution_count": 81,
   "id": "edddf28c",
   "metadata": {},
   "outputs": [
    {
     "name": "stdout",
     "output_type": "stream",
     "text": [
      "    1\n",
      "   121\n",
      "  12321\n",
      " 1234321\n",
      "123454321\n"
     ]
    }
   ],
   "source": [
    "n=6\n",
    "for i in range(1,n):\n",
    "    print(\" \" * (n-i-1),end='')\n",
    "    \n",
    "    for j in range(1,i+1):\n",
    "        print(j,end='')\n",
    "        \n",
    "    for j in range(j-1,0,-1):\n",
    "        print(j,end='')\n",
    "        \n",
    "    print()"
   ]
  },
  {
   "cell_type": "code",
   "execution_count": null,
   "id": "d46d0ed1",
   "metadata": {},
   "outputs": [],
   "source": [
    "  *\n",
    " ***\n",
    "*****\n",
    " ***\n",
    "  *"
   ]
  },
  {
   "cell_type": "code",
   "execution_count": 132,
   "id": "60200be6",
   "metadata": {},
   "outputs": [
    {
     "name": "stdout",
     "output_type": "stream",
     "text": [
      "   *\n",
      "   ***\n",
      "   *****\n",
      "   ***\n",
      "   *\n"
     ]
    }
   ],
   "source": [
    "\n",
    "for i in range(1,6,2):\n",
    "    for j in range(2,0,-1):\n",
    "        print(\" \"*j,end='')\n",
    "    print(\"*\"*i)\n",
    "for i in range(3,0,-2):\n",
    "    for j in range(1,3):\n",
    "        print(\" \"*j,end='')\n",
    "    print(\"*\"*i)\n",
    "        "
   ]
  },
  {
   "cell_type": "code",
   "execution_count": 143,
   "id": "66c4c810",
   "metadata": {},
   "outputs": [
    {
     "name": "stdout",
     "output_type": "stream",
     "text": [
      "  *\n",
      " ***\n",
      "*****\n",
      " ***\n",
      "  *\n"
     ]
    }
   ],
   "source": [
    "n=3\n",
    "for i in range(1,n+1):\n",
    "    print(\" \" * (n-i) + \"*\" *((2*i)-1))\n",
    "for i in range(n-1,0,-1):\n",
    "    print(\" \"*(n-i)+\"*\"*((2*i)-1))"
   ]
  },
  {
   "cell_type": "code",
   "execution_count": null,
   "id": "86e9e066",
   "metadata": {},
   "outputs": [],
   "source": [
    "    *\n",
    "   * *\n",
    "  *   *\n",
    " *     *\n",
    "*       *\n",
    " *     *\n",
    "  *   *\n",
    "   * *\n",
    "    *"
   ]
  },
  {
   "cell_type": "code",
   "execution_count": 1,
   "id": "1fdb67e1",
   "metadata": {},
   "outputs": [
    {
     "ename": "SyntaxError",
     "evalue": "'(' was never closed (2112892195.py, line 9)",
     "output_type": "error",
     "traceback": [
      "\u001b[1;36m  Cell \u001b[1;32mIn[1], line 9\u001b[1;36m\u001b[0m\n\u001b[1;33m    print(\" \"*(n-i+1)\u001b[0m\n\u001b[1;37m         ^\u001b[0m\n\u001b[1;31mSyntaxError\u001b[0m\u001b[1;31m:\u001b[0m '(' was never closed\n"
     ]
    }
   ],
   "source": [
    "n=5\n",
    "\n",
    "print(\" \"*(n-1)+\"*\")\n",
    "# for i in range(n-2,1,-1):\n",
    "#     print(\" \" * i +\"*\",end='')\n",
    "#     print(\" \"+\"*\")\n",
    "\n",
    "for i in range(1,n):\n",
    "    print(\" \"*(n-i+1)\n",
    "    print(\"*\"+\" \" *i+\"*\")\n",
    "\n",
    "\n",
    "    "
   ]
  },
  {
   "cell_type": "code",
   "execution_count": null,
   "id": "316fc85f",
   "metadata": {},
   "outputs": [],
   "source": [
    "    *\n",
    "   * *\n",
    "  * *"
   ]
  }
 ],
 "metadata": {
  "kernelspec": {
   "display_name": "Python 3 (ipykernel)",
   "language": "python",
   "name": "python3"
  },
  "language_info": {
   "codemirror_mode": {
    "name": "ipython",
    "version": 3
   },
   "file_extension": ".py",
   "mimetype": "text/x-python",
   "name": "python",
   "nbconvert_exporter": "python",
   "pygments_lexer": "ipython3",
   "version": "3.11.5"
  }
 },
 "nbformat": 4,
 "nbformat_minor": 5
}
